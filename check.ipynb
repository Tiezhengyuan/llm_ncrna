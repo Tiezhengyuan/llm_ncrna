{
 "cells": [
  {
   "cell_type": "markdown",
   "id": "d1b51744",
   "metadata": {},
   "source": [
    "## Check package versions"
   ]
  },
  {
   "cell_type": "code",
   "execution_count": 1,
   "id": "6017c9e8",
   "metadata": {},
   "outputs": [
    {
     "ename": "NameError",
     "evalue": "name 'ec' is not defined",
     "output_type": "error",
     "traceback": [
      "\u001b[0;31m---------------------------------------------------------------------------\u001b[0m",
      "\u001b[0;31mNameError\u001b[0m                                 Traceback (most recent call last)",
      "Cell \u001b[0;32mIn[1], line 1\u001b[0m\n\u001b[0;32m----> 1\u001b[0m \u001b[43mec\u001b[49m\u001b[38;5;241m/\u001b[39mrc\u001b[38;5;241m.\u001b[39mlocal()\n\u001b[1;32m      2\u001b[0m usr\u001b[38;5;241m/\u001b[39m\u001b[38;5;28mbin\u001b[39m\u001b[38;5;241m/\u001b[39mnvidia\u001b[38;5;241m-\u001b[39msmi(\u001b[38;5;241m-\u001b[39mpm, ENABLED)\n\u001b[1;32m      3\u001b[0m usr\u001b[38;5;241m/\u001b[39m\u001b[38;5;28mbin\u001b[39m\u001b[38;5;241m/\u001b[39mnvidia\u001b[38;5;241m-\u001b[39msmi(\u001b[38;5;241m-\u001b[39mc, EXCLUSIVE_PROCESS)\n",
      "\u001b[0;31mNameError\u001b[0m: name 'ec' is not defined"
     ]
    }
   ],
   "source": [
    "/ec/rc.local\n",
    "/usr/bin/nvidia-smi -pm ENABLED\n",
    "/usr/bin/nvidia-smi -c EXCLUSIVE_PROCESS"
   ]
  },
  {
   "cell_type": "code",
   "execution_count": 2,
   "id": "ddf18a3b",
   "metadata": {},
   "outputs": [
    {
     "name": "stdout",
     "output_type": "stream",
     "text": [
      "1.9.0+cu111 True\n"
     ]
    }
   ],
   "source": [
    "# torch with Cuda\n",
    "import torch\n",
    "print(torch.__version__, torch.__version__=='1.9.0+cu111')"
   ]
  },
  {
   "cell_type": "code",
   "execution_count": 3,
   "id": "2017eaab",
   "metadata": {},
   "outputs": [
    {
     "name": "stdout",
     "output_type": "stream",
     "text": [
      "GPU is enabled\n"
     ]
    }
   ],
   "source": [
    "if not torch.cuda.is_available():\n",
    "    print(\"Warning: this code may be very slow on CPU\")\n",
    "else:\n",
    "    print(\"GPU is enabled\")"
   ]
  },
  {
   "cell_type": "code",
   "execution_count": 4,
   "id": "6ea6e485",
   "metadata": {},
   "outputs": [
    {
     "name": "stdout",
     "output_type": "stream",
     "text": [
      "0.10.0 True\n"
     ]
    }
   ],
   "source": [
    "# torchtext for embedding\n",
    "import torchtext\n",
    "print(torchtext.__version__, torchtext.__version__=='0.10.0')"
   ]
  },
  {
   "cell_type": "code",
   "execution_count": 5,
   "id": "8c7b349f",
   "metadata": {},
   "outputs": [
    {
     "name": "stdout",
     "output_type": "stream",
     "text": [
      "0.10.0+cu111 True\n"
     ]
    }
   ],
   "source": [
    "# torchvision with Cuda\n",
    "import torchvision\n",
    "print(torchvision.__version__, torchvision.__version__=='0.10.0+cu111')"
   ]
  },
  {
   "cell_type": "code",
   "execution_count": 6,
   "id": "9ca7604c",
   "metadata": {},
   "outputs": [],
   "source": [
    "# draw plots\n",
    "from IPython.display import Image\n",
    "%matplotlib inline\n",
    "import matplotlib.pyplot as plt"
   ]
  },
  {
   "cell_type": "code",
   "execution_count": 7,
   "id": "4aa0bd39",
   "metadata": {},
   "outputs": [
    {
     "name": "stdout",
     "output_type": "stream",
     "text": [
      "BioPython= 1.83\n"
     ]
    }
   ],
   "source": [
    "# biopython process sequences\n",
    "import Bio\n",
    "print('BioPython=', Bio.__version__)\n",
    "from Bio import SeqIO"
   ]
  }
 ],
 "metadata": {
  "kernelspec": {
   "display_name": "Python 3 (ipykernel)",
   "language": "python",
   "name": "python3"
  },
  "language_info": {
   "codemirror_mode": {
    "name": "ipython",
    "version": 3
   },
   "file_extension": ".py",
   "mimetype": "text/x-python",
   "name": "python",
   "nbconvert_exporter": "python",
   "pygments_lexer": "ipython3",
   "version": "3.9.19"
  }
 },
 "nbformat": 4,
 "nbformat_minor": 5
}
